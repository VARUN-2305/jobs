processed data of jobs data set
