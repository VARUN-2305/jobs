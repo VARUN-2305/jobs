{
 "cells": [
  {
   "cell_type": "code",
   "execution_count": 1,
   "metadata": {
    "tags": []
   },
   "outputs": [
    {
     "name": "stdout",
     "output_type": "stream",
     "text": [
      "✅ Data scraped and saved to 'popular-languages.csv'\n"
     ]
    },
    {
     "data": {
      "text/html": [
       "<div>\n",
       "<style scoped>\n",
       "    .dataframe tbody tr th:only-of-type {\n",
       "        vertical-align: middle;\n",
       "    }\n",
       "\n",
       "    .dataframe tbody tr th {\n",
       "        vertical-align: top;\n",
       "    }\n",
       "\n",
       "    .dataframe thead th {\n",
       "        text-align: right;\n",
       "    }\n",
       "</style>\n",
       "<table border=\"1\" class=\"dataframe\">\n",
       "  <thead>\n",
       "    <tr style=\"text-align: right;\">\n",
       "      <th></th>\n",
       "      <th>Language</th>\n",
       "      <th>Average Annual Salary</th>\n",
       "    </tr>\n",
       "  </thead>\n",
       "  <tbody>\n",
       "  </tbody>\n",
       "</table>\n",
       "</div>"
      ],
      "text/plain": [
       "Empty DataFrame\n",
       "Columns: [Language, Average Annual Salary]\n",
       "Index: []"
      ]
     },
     "execution_count": 1,
     "metadata": {},
     "output_type": "execute_result"
    }
   ],
   "source": [
    "# Step 1: Import required libraries\n",
    "import requests\n",
    "from bs4 import BeautifulSoup\n",
    "import pandas as pd\n",
    "\n",
    "# Step 2: URL containing the data\n",
    "url = \"https://cf-courses-data.s3.us.cloud-object-storage.appdomain.cloud/IBM-DA0321EN-SkillsNetwork/labs/datasets/Programming_Languages.html\"\n",
    "\n",
    "# Step 3: Download the webpage\n",
    "response = requests.get(url)\n",
    "if response.ok:\n",
    "    html_data = response.text\n",
    "else:\n",
    "    raise Exception(\"Error fetching webpage\")\n",
    "\n",
    "# Step 4: Create a BeautifulSoup object\n",
    "soup = BeautifulSoup(html_data, \"html.parser\")\n",
    "\n",
    "# Step 5: Find the table (inspect the page: it has <table>)\n",
    "table = soup.find(\"table\")\n",
    "\n",
    "# Step 6: Extract table rows\n",
    "rows = table.find_all(\"tr\")\n",
    "\n",
    "# Step 7: Parse language names and salaries\n",
    "languages = []\n",
    "salaries = []\n",
    "\n",
    "for row in rows[1:]:  # skip header row\n",
    "    cols = row.find_all(\"td\")\n",
    "    if len(cols) == 2:\n",
    "        language = cols[0].text.strip()\n",
    "        salary = cols[1].text.strip()\n",
    "        languages.append(language)\n",
    "        salaries.append(salary)\n",
    "\n",
    "# Step 8: Create DataFrame\n",
    "df = pd.DataFrame({\"Language\": languages, \"Average Annual Salary\": salaries})\n",
    "\n",
    "# Step 9: Save to CSV\n",
    "df.to_csv(\"popular-languages.csv\", index=False)\n",
    "\n",
    "print(\"✅ Data scraped and saved to 'popular-languages.csv'\")\n",
    "df\n"
   ]
  }
 ],
 "metadata": {
  "kernelspec": {
   "display_name": "Python",
   "language": "python",
   "name": "conda-env-python-py"
  },
  "language_info": {
   "codemirror_mode": {
    "name": "ipython",
    "version": 3
   },
   "file_extension": ".py",
   "mimetype": "text/x-python",
   "name": "python",
   "nbconvert_exporter": "python",
   "pygments_lexer": "ipython3",
   "version": "3.7.12"
  }
 },
 "nbformat": 4,
 "nbformat_minor": 4
}
