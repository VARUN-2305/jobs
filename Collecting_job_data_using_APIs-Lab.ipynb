{
 "cells": [
  {
   "cell_type": "code",
   "execution_count": 2,
   "metadata": {
    "tags": []
   },
   "outputs": [
    {
     "name": "stdout",
     "output_type": "stream",
     "text": [
      "Requirement already satisfied: openpyxl in /home/jupyterlab/conda/envs/python/lib/python3.7/site-packages (3.1.3)\n",
      "Requirement already satisfied: et-xmlfile in /home/jupyterlab/conda/envs/python/lib/python3.7/site-packages (from openpyxl) (1.1.0)\n",
      "✅ Excel file 'job-postings.xlsx' created with 2 sheets (Technologies & Locations).\n"
     ]
    }
   ],
   "source": [
    "# Import required libraries\n",
    "!pip install openpyxl\n",
    "\n",
    "import requests\n",
    "import pandas as pd\n",
    "\n",
    "# Step 1: Load data from API\n",
    "api_url = \"https://cf-courses-data.s3.us.cloud-object-storage.appdomain.cloud/IBM-DA0321EN-SkillsNetwork/labs/module%201/Accessing%20Data%20Using%20APIs/jobs.json\"\n",
    "\n",
    "response = requests.get(api_url)\n",
    "if response.ok:\n",
    "    data = response.json()\n",
    "else:\n",
    "    raise Exception(\"Error loading API data\")\n",
    "\n",
    "# Convert JSON to DataFrame\n",
    "df = pd.DataFrame(data)\n",
    "\n",
    "# Step 2: Function to count jobs by Technology\n",
    "def get_number_of_jobs_T(technology):\n",
    "    number_of_jobs = df['Key Skills'].str.contains(technology, case=False, na=False, regex=False).sum()\n",
    "    return technology, number_of_jobs\n",
    "\n",
    "# Step 3: Function to count jobs by Location\n",
    "def get_number_of_jobs_L(location):\n",
    "    number_of_jobs = df['Location'].str.contains(location, case=False, na=False, regex=False).sum()\n",
    "    return location, number_of_jobs\n",
    "\n",
    "# Step 4: Collect job postings for given technologies\n",
    "technologies = [\"C\", \"C#\", \"C++\", \"Java\", \"JavaScript\", \n",
    "                \"Python\", \"Scala\", \"Oracle\", \n",
    "                \"SQL Server\", \"MySQL Server\", \n",
    "                \"PostgreSQL\", \"MongoDB\"]\n",
    "\n",
    "tech_job_counts = [get_number_of_jobs_T(tech) for tech in technologies]\n",
    "df_tech = pd.DataFrame(tech_job_counts, columns=[\"Technology\", \"Job Postings\"])\n",
    "\n",
    "# Step 5: Collect job postings for given locations\n",
    "locations = [\"Los Angeles\", \"New York\", \"San Francisco\", \n",
    "             \"Washington DC\", \"Seattle\", \"Austin\", \"Detroit\"]\n",
    "\n",
    "location_job_counts = [get_number_of_jobs_L(loc) for loc in locations]\n",
    "df_loc = pd.DataFrame(location_job_counts, columns=[\"Location\", \"Job Postings\"])\n",
    "\n",
    "# Step 6: Save both results into one Excel file (two sheets)\n",
    "with pd.ExcelWriter(\"job-postings.xlsx\") as writer:\n",
    "    df_tech.to_excel(writer, sheet_name=\"Technologies\", index=False)\n",
    "    df_loc.to_excel(writer, sheet_name=\"Locations\", index=False)\n",
    "\n",
    "print(\"✅ Excel file 'job-postings.xlsx' created with 2 sheets (Technologies & Locations).\")\n"
   ]
  },
  {
   "cell_type": "code",
   "execution_count": null,
   "metadata": {},
   "outputs": [],
   "source": []
  }
 ],
 "metadata": {
  "kernelspec": {
   "display_name": "Python",
   "language": "python",
   "name": "conda-env-python-py"
  },
  "language_info": {
   "codemirror_mode": {
    "name": "ipython",
    "version": 3
   },
   "file_extension": ".py",
   "mimetype": "text/x-python",
   "name": "python",
   "nbconvert_exporter": "python",
   "pygments_lexer": "ipython3",
   "version": "3.7.12"
  },
  "prev_pub_hash": "61a35a07ad98492b710274ae0e52a0fdce2221e88e366133dd4a20370680fa8f"
 },
 "nbformat": 4,
 "nbformat_minor": 4
}
