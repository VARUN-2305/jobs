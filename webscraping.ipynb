collected data from wensite using url of that website by webscraping in python.
